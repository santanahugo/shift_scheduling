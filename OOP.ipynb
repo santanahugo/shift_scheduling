{
 "cells": [
  {
   "cell_type": "markdown",
   "id": "2587c7c8-5fbb-4163-bfd6-8845d5dfe185",
   "metadata": {},
   "source": [
    "### TODO:\n",
    "- Criar função check_double para checar se após uma alocação, alguém está com turno dobrado.\n",
    "    - Caso sim, alocar folga novamente\n",
    "- Repetir lógica do solve até todos os shifts estarem alocados ou encontrar um erro\n",
    "- Criar lógica para lidar com soft constraints\n",
    "- Implementar backtracking\n",
    "- Refactor code\n",
    "    - Strings vs Custom Classes in different methods\n",
    "    - Once functional, move classes and usage to separate scripts\n",
    "- Create tests\n",
    "- Create CI pipeline\n",
    "- days_off_per_week:\n",
    "    - Actually consider no_days\n",
    "    - Handle substitutes"
   ]
  },
  {
   "cell_type": "code",
   "execution_count": 1,
   "id": "fc6ac1c6-211d-4003-b738-ccd57433f43a",
   "metadata": {},
   "outputs": [],
   "source": [
    "from enum import Enum\n",
    "from typing import List\n",
    "from dateutil.relativedelta import relativedelta\n",
    "from datetime import datetime, date\n",
    "import pandas as pd\n",
    "import numpy as np\n",
    "from copy import deepcopy, copy\n",
    "import bisect # Used for fast searching of first x greater than K in a list"
   ]
  },
  {
   "cell_type": "raw",
   "id": "341c07d8-15d8-4a9a-98a4-c5cc9f843a79",
   "metadata": {},
   "source": [
    "datetime.strptime('20230202', '%Y%m%d')"
   ]
  },
  {
   "cell_type": "raw",
   "id": "be048c18-046c-4bf7-b294-18a2b2cc05de",
   "metadata": {},
   "source": [
    "next_month = (date.today() + relativedelta(months=1))\n",
    "first_day = next_month + relativedelta(days=-next_month.day + 1)\n",
    "last_day = first_day + relativedelta(months=1, days=-1)"
   ]
  },
  {
   "cell_type": "code",
   "execution_count": 2,
   "id": "3291d04c-1f3c-4f4d-afdb-cd2985d61ba9",
   "metadata": {},
   "outputs": [],
   "source": [
    "#Criar dataframe contendo posições e nomes\n",
    "morning_workers = ['CHEF1', 'COZ1', 'COZ2', 'ASG1', 'ASG2', 'AUX1', 'CONF1', 'PIZ1', 'GARD1', 'MASSA1']\n",
    "evening_workers = ['CHEF2', 'COZ3', 'COZ4', 'ASG3', 'ASG4', 'AUX2', 'AUXPIZ1', 'PIZ2', 'GARD2', 'MASSA2']\n",
    "workers = morning_workers + evening_workers\n",
    "positions = [x[:-1] for x in workers]\n",
    "df = pd.DataFrame({'position': positions, 'worker': workers})\n",
    "#Update caso particular\n",
    "df.loc[df['worker'] == 'AUXPIZ1', 'position'] = 'PIZ'\n",
    "#df = pd.concat([df, pd.DataFrame([['CONF','AUXPIZ1']], columns=df.columns)], axis = 0)\n",
    "#df = pd.concat([df, pd.DataFrame([['AUXPIZ','CONF1']], columns=df.columns)], axis = 0)"
   ]
  },
  {
   "cell_type": "code",
   "execution_count": 3,
   "id": "c9b4c193-5eaf-4baa-9d44-bf5f488a5340",
   "metadata": {},
   "outputs": [],
   "source": [
    "# These definitions will help set constraints in an intuitive manner by the user\n",
    "MONDAY = 0\n",
    "TUESDAY = 1\n",
    "WEDNESDAY = 2\n",
    "THURSDAY = 3\n",
    "FRIDAY = 4\n",
    "SATURDAY = 5\n",
    "SUNDAY = 6"
   ]
  },
  {
   "cell_type": "code",
   "execution_count": 4,
   "id": "a701adf8-58aa-4f88-9c33-e5d52e382934",
   "metadata": {},
   "outputs": [],
   "source": [
    "class CalendarDay():\n",
    "    \"\"\"\n",
    "    A CalendarDay represents a day of the month.\n",
    "    Attrs:\n",
    "        - Date\n",
    "        - Day of the week\n",
    "        - Number of Shifts\n",
    "        - Week of the year\n",
    "    \"\"\"\n",
    "   \n",
    "    \n",
    "    def __init__(self, date: date):\n",
    "        self.date = date\n",
    "        self.date_alias = self.date.strftime('%a%d')\n",
    "        self.week_day = self.date.weekday()\n",
    "        self.week = self.date.strftime('%W')\n",
    "        self.next_day = None\n",
    "    \n",
    "    def __repr__(self):\n",
    "        return f\"{self.date_alias}\"\n",
    "        \n",
    "\n",
    "class Shift():\n",
    "    \"\"\"\n",
    "    A Shift needs a set number of workers per position (slots) to be filled.\n",
    "    \"\"\"\n",
    "    def __init__(self, cal_day: CalendarDay, no: int, positions: List[str], no_workers_per_position: dict, candidates):\n",
    "        self.cal_day = cal_day\n",
    "        self.shift_name = str(self.cal_day.date_alias) + ' S' +str(no).zfill(2)\n",
    "        self.week_day = cal_day.week_day\n",
    "        self.week = cal_day.week\n",
    "        self.no = no\n",
    "        self.workers = []\n",
    "        self.slots_to_fill = no_workers_per_position\n",
    "        self.filled_slots = {}\n",
    "        self.candidates = candidates\n",
    "        for position in positions:\n",
    "            #self.slots_to_fill[str(position)] = no_workers_per_position\n",
    "            self.filled_slots[position] = set()\n",
    "        \n",
    "    def update(self, slots_to_fill, candidates):\n",
    "        \"\"\"\n",
    "        Allows the user to specify slots_to_fill using a dictionary with keys: positions \n",
    "        and values: number of workers for that position; and the candidates dictionary with\n",
    "        keys: position, values: set of worker names \n",
    "        \"\"\"\n",
    "        self.slots_to_fill = slots_to_fill\n",
    "        self.candidates = candidates\n",
    "        for position in self.slots_to_fill.keys():\n",
    "            self.filled_slots[position] = set()\n",
    "    \n",
    "    def __repr__(self):\n",
    "        return self.shift_name\n",
    "    \n",
    "\n",
    "class Worker():\n",
    "    def __init__(self, name: str, position: str, availability: List[Shift] = []):\n",
    "        self.name = name\n",
    "        self.position = position\n",
    "        self.availability = []\n",
    "        self.no_shifts = 0\n",
    "        self.shift_preference = 100\n",
    "        self.days_off = []\n",
    "        \n",
    "    def __repr__(self):\n",
    "        return self.name\n",
    "    \n",
    "    def __str__(self):\n",
    "        return self.name\n",
    "\n",
    "\n",
    "\n",
    "class Schedule():\n",
    "    \"\"\"\n",
    "    Class which contains the calendar and the solver (AC3).\n",
    "    Initializes the days and shifts. Sets requirements for each shift in terms of workers and positions. Executes solver.\n",
    "    Users should pass the positions names and requirements, as well as the worker list.\n",
    "    attrs:\n",
    "        - start_date: 'YYYYMMDD'\n",
    "        - end_date: 'YYYYMMDD', inclusive\n",
    "        - number_of_shifts: number of shifts within a day\n",
    "        - number_of_positions: number of distinct roles that should be allocated within each shift\n",
    "        - calendar_days\n",
    "        \n",
    "    methods:\n",
    "        - add_contraint\n",
    "        - remove_constraint\n",
    "        - solve\n",
    "    \"\"\"\n",
    "    \n",
    "    next_month = (date.today() + relativedelta(months=1))\n",
    "    first_day = next_month + relativedelta(days=-next_month.day + 1)\n",
    "    last_day = first_day + relativedelta(months=1, days=-1)\n",
    "    \n",
    "    def __init__(self, \n",
    "                 no_workers_per_position: dict,\n",
    "                 start_date: str = first_day,\n",
    "                 end_date: str = last_day, \n",
    "                 no_shifts_per_day: int = 2, \n",
    "                 df: pd.DataFrame = pd.DataFrame({'position': [], 'worker': []}),\n",
    "                 \n",
    "                ):\n",
    "        self.start_date = start_date\n",
    "        self.end_date = end_date\n",
    "        self.constraints = {}\n",
    "        self.df = df\n",
    "        self.no_workers_per_position = no_workers_per_position\n",
    "        self.positions, self.workers = self.get_workers_and_positions(df)\n",
    "        self.no_positions = len(positions)\n",
    "        self.calendar_days = [CalendarDay(x) for x in pd.date_range(start_date, end_date, freq='1d')]\n",
    "        for i in range(0, len(self.calendar_days)):\n",
    "            if i < len(self.calendar_days) - 1:\n",
    "                self.calendar_days[i].next_day = self.calendar_days[i + 1]\n",
    "        #candidates_per_position should be combined with worker availability\n",
    "        self.candidates_per_position = dict(df.groupby('position')['worker'].unique().apply(set))\n",
    "        #Initialize shifts\n",
    "        self.shifts = [] \n",
    "        self.worker_allocation = {}\n",
    "        print(f\"positions: {self.positions}\")\n",
    "        for cal_day in self.calendar_days:\n",
    "            for shift_no in range(1, no_shifts_per_day + 1):\n",
    "                self.shifts.append(Shift(cal_day,shift_no, self.positions, self.no_workers_per_position, self.candidates_per_position))\n",
    "        #Initialize worker availability\n",
    "        for worker in self.workers:\n",
    "            worker.availability = copy(self.shifts)\n",
    "            self.worker_allocation[worker.name] = 0\n",
    "        #Set substitutes\n",
    "        self.substitutes = {'CONF': 'AUXPIZ1', 'AUXPIZ': 'CONF1'}\n",
    "        \n",
    "    \n",
    "    def get_workers_and_positions(self, df):\n",
    "        \"\"\"\n",
    "        Takes a pandas DataFrame containing name of the worker and position.\n",
    "        Assumes there are not duplicate worker names.\n",
    "        Returns all the positions and workers as lists.\n",
    "        \"\"\"\n",
    "        positions = list(df['position'].unique())\n",
    "        workers = []\n",
    "        for row in df.itertuples():\n",
    "            worker = Worker(row[2],row[1])\n",
    "            workers.append(worker)\n",
    "        return positions, workers\n",
    "    \n",
    "    \n",
    "    \n",
    "    def add_schedule_constraint(self, kind='days_off_per_week', **kwargs):\n",
    "        \"\"\"\n",
    "            - kind: \n",
    "                worker_to_shiftno \n",
    "                    - soft constraint - try to enforce after hard constraints\n",
    "                    - worker can only work on shift n \n",
    "                    - kwargs: worker_name, shift_no\n",
    "                days_off_per_week \n",
    "                    - hard constraint\n",
    "                    - kwargs: no_days\n",
    "                days_off_per_month \n",
    "                    - hard constraint\n",
    "                    - kwargs: no_days\n",
    "                days_off_per_weekday_per_month \n",
    "                    - hard constraint\n",
    "                    - kwargs: no_days, weekday                    \n",
    "                consecutive_days_off \n",
    "                    - soft constraint\n",
    "                    - kwargs: no_days\n",
    "                day_off_after_doubling \n",
    "                    - hard_constraint\n",
    "                    - kwargs: flag\n",
    "        \"\"\"\n",
    "        if kind == 'days_off_per_week':\n",
    "            try:\n",
    "                no_days = kwargs['no_days']\n",
    "                self.constraints[kind] = {'no_days': no_days}\n",
    "            except KeyError:\n",
    "                print(f'You must specify no_days when kind is {kind}!')\n",
    "        elif kind == 'days_off_per_month':\n",
    "            try:\n",
    "                no_days = kwargs['no_days']\n",
    "                self.constraints[kind] = {'no_days': no_days}\n",
    "            except KeyError:\n",
    "                print(f'You must specify no_days when kind is {kind}!')\n",
    "        elif kind == 'days_off_per_weekday_per_month':\n",
    "            try:\n",
    "                no_days = kwargs['no_days']\n",
    "                week_day = kwargs['week_day']\n",
    "                self.constraints[kind] = {'no_days': no_days, 'week_day': week_day}\n",
    "            except KeyError:\n",
    "                print(f'You must specify no_days and week_day when kind is {kind}!')\n",
    "        elif kind == 'day_off_after_doubling':\n",
    "            self.constraints[kind] = True\n",
    "        elif kind == 'consecutive_days_off':\n",
    "            try:\n",
    "                no_days = kwargs['no_days']\n",
    "                self.constraints[kind] = {'no_days': no_days}\n",
    "            except KeyError:\n",
    "                print(f'You must specify no_days when kind is {kind}!')\n",
    "        #Implement consecutive_days_off and worker_to_shiftno\n",
    "    \n",
    "    def update_number_of_shifts_for_particular_day(self):\n",
    "        pass\n",
    "        \n",
    "    def remove_worker_availability_by_day(self, worker: Worker, day: CalendarDay):\n",
    "        shifts = self.get_shifts_by_calendar_day(day)\n",
    "        #print(shifts)\n",
    "        worker.days_off.append(day.date)\n",
    "        for shift in shifts:\n",
    "            worker.availability.remove(shift)\n",
    "    \n",
    "    # -----------------  Day off functions ----------------------- #\n",
    "    def compute_interval_between_days_off(self):\n",
    "        results = []\n",
    "        for worker in self.workers:\n",
    "            days_off = sorted(worker.days_off)\n",
    "            cp_days_off = copy(days_off)\n",
    "            intervals = []\n",
    "            while len(cp_days_off) > 1: #If worker has been allocated more than 1 day off\n",
    "                #Compute time between days off\n",
    "                interval = cp_days_off[-1] - cp_days_off[-2]\n",
    "                intervals.append(interval)\n",
    "                cp_days_off.pop()\n",
    "            results.append([worker, intervals, days_off])\n",
    "        return results\n",
    "    \n",
    "    def set_new_day_off_within_x_days(self, worker, start_date, x, debug=False):\n",
    "        cal_day = self.get_calday_by_date(start_date)\n",
    "        flag_able_to_allocate = False\n",
    "        # Iterate for x next days and verify if there is a day when we can fulfill the slot requirements without that worker\n",
    "        for i in range(x):\n",
    "            cal_day = cal_day.next_day\n",
    "            available_workers = self.get_workers_by_calday_availability(cal_day)\n",
    "            position_workers = set([x.name for x in self.get_workers_by_position(worker.position)])\n",
    "            intersection = available_workers.intersection(position_workers)\n",
    "            shift = self.get_shifts_by_calendar_day(cal_day)[0]\n",
    "            required_slots = shift.slots_to_fill[worker.position]\n",
    "            if worker.name in intersection:\n",
    "                intersection.remove(worker.name)\n",
    "            if len(intersection) >= required_slots:\n",
    "                #Remove availability\n",
    "                flag_able_to_allocate = True\n",
    "                self.remove_worker_availability_by_day(worker, cal_day)\n",
    "                #Save day\n",
    "                break\n",
    "            if debug:\n",
    "                print(f\"Available Workers: {available_workers}\")\n",
    "                print(f\"Position Workers: {position_workers}\")\n",
    "                print(f\"Intersection: {intersection}\")\n",
    "                print(f\"Required slots: {required_slots}\")\n",
    "        if flag_able_to_allocate:\n",
    "            print(f'Success. Worker {worker} has been given a new day off at {cal_day}.')\n",
    "            return cal_day\n",
    "        else:\n",
    "            print(f'Unable to allocate day off for worker {worker} in the specified range.'.upper())\n",
    "            return None\n",
    "        \n",
    "     # ------------------------------------------------------------------- #\n",
    "        \n",
    "     # ----------------- Helper querying functions ----------------------- #\n",
    "    def get_shifts_by_number(self, no):\n",
    "        return [x for x in self.shifts if x.no == no]\n",
    "    \n",
    "    def get_shifts_by_calendar_day(self, cal_day):\n",
    "        return [x for x in self.shifts if x.cal_day == cal_day]\n",
    "    \n",
    "    def get_shifts_by_day_of_the_week(self, week_day):\n",
    "        return [x for x in self.shifts if x.week_day == week_day]\n",
    "    \n",
    "    def get_shift_by_name(self, name):\n",
    "        return [x for x in self.shifts if x.shift_name == name]\n",
    "    \n",
    "    def get_calday_by_day_of_the_week(self, week_day):\n",
    "        return [x for x in self.calendar_days if x.week_day == week_day]\n",
    "    \n",
    "    def get_calday_by_date(self, date):\n",
    "        return [x for x in self.calendar_days if x.date == date][0]\n",
    "    \n",
    "    def get_workers_by_calday_availability(self, calday):\n",
    "        \"\"\"Returns worker names\"\"\"\n",
    "        shifts = self.get_shifts_by_calendar_day(calday)\n",
    "        workers = set()\n",
    "        for shift in shifts:\n",
    "            for worker in self.workers:\n",
    "                if shift in worker.availability:\n",
    "                    workers.add(worker.name)\n",
    "        return workers\n",
    "    \n",
    "    def get_workers_by_position(self, position):\n",
    "        \"Returns a list of Workers for that position\"\n",
    "        return [x for x in self.workers if x.position == position]\n",
    "    \n",
    "    def get_worker_by_name(self, name):\n",
    "        return [x for x in self.workers if x.name == name][0]\n",
    "        \n",
    "    # ------------------------------------------------------------------- #\n",
    "    \n",
    "    def allocate(self, days: List[CalendarDay]):\n",
    "        \"\"\"Allocates available workers in the specified days\"\"\"\n",
    "        for day in days:\n",
    "            print(f\"Day: {day}\")\n",
    "            shifts = self.get_shifts_by_calendar_day(day)\n",
    "            available_workers = self.get_workers_by_calday_availability(day)\n",
    "            print(f'Available workers: {available_workers}')\n",
    "            for shift in shifts:\n",
    "                for position in shift.slots_to_fill.keys():\n",
    "                    n_workers = shift.slots_to_fill[position]\n",
    "                    position_candidates = set(shift.candidates[position])\n",
    "                    new_candidates = list(available_workers.intersection(position_candidates))\n",
    "                    new_candidates = sorted(new_candidates, key=lambda x: self.worker_allocation.get(x), reverse=True)\n",
    "                    while len(shift.filled_slots[position]) < n_workers:\n",
    "                        if len(new_candidates) > 0:\n",
    "                            min_allocation = self.worker_allocation.get(new_candidates[-1])\n",
    "                            ideal_worker_to_allocate = []\n",
    "                            alternative_worker_to_allocate = []\n",
    "                            #TODO\n",
    "                            #Here, I should first verify if I can allocate the worker with min_allocation\n",
    "                            #if not, try the next min_allocation\n",
    "                            for worker in new_candidates:\n",
    "                                if self.worker_allocation.get(worker) == min_allocation:\n",
    "                                    worker_instance = self.get_worker_by_name(worker)\n",
    "                                    if worker_instance.shift_preference == shift.no:\n",
    "                                        ideal_worker_to_allocate.append(worker)\n",
    "                                    else:\n",
    "                                        alternative_worker_to_allocate.append(worker)\n",
    "                            if len(ideal_worker_to_allocate) > 0:\n",
    "                                #Set worker_to_allocate as the worker with minimum allocation \n",
    "                                #that usually works that shift\n",
    "                                worker_to_allocate = ideal_worker_to_allocate[-1]\n",
    "                            else:\n",
    "                                #Set worker_to_allocate as the worker with minimum allocation \n",
    "                                #that doesn't usually work that shift\n",
    "                                worker_to_allocate = alternative_worker_to_allocate[-1]\n",
    "                            shift.filled_slots[position].add(worker_to_allocate)\n",
    "                            self.worker_allocation[worker_to_allocate] += 1\n",
    "                            new_candidates.remove(worker_to_allocate)\n",
    "                        else:\n",
    "                            shift.filled_slots[position].add(self.substitutes[position])\n",
    "    \n",
    "    def solve(self, debug=False):\n",
    "        #Start by looking at days_off_per_weekday_per_month\n",
    "        if 'days_off_per_weekday_per_month' in self.constraints.keys():\n",
    "            no_days = self.constraints['days_off_per_weekday_per_month']['no_days']\n",
    "            week_day = self.constraints['days_off_per_weekday_per_month']['week_day']\n",
    "            #Get weekdays\n",
    "            days = self.get_calday_by_day_of_the_week(week_day)\n",
    "            if debug:\n",
    "                print('--------------------------------------------')\n",
    "                print('Days off per weekday')\n",
    "                print('Days: ', days)\n",
    "            #Crete auxiliary varibles\n",
    "            calendario_folga = {}\n",
    "            folgados = set()\n",
    "            #Each person has to have at least 1 day off on a sunday per month\n",
    "            for day in days:\n",
    "                cant_have_a_day_off = set()\n",
    "                if debug:\n",
    "                    print(f'\\nDay:{day}')\n",
    "                for position in self.positions:\n",
    "                    if day not in calendario_folga.keys():\n",
    "                        calendario_folga[day] = {}\n",
    "                    candidatos_a_folgado = list(set(self.get_workers_by_position(position)) - folgados - cant_have_a_day_off)\n",
    "                    if debug:\n",
    "                        print(f\"day:{day}, position:{position}, candidatos_a_folgado: {candidatos_a_folgado}, cant_have_a_day_off: {cant_have_a_day_off}\")\n",
    "                    if len(candidatos_a_folgado) > 0:\n",
    "                        folgado = np.random.choice(candidatos_a_folgado)\n",
    "                        if debug:\n",
    "                            print(f'Folgado escolhido: {folgado}')\n",
    "                            print(f'Disponibilidade do folgado escolhido: {folgado.availability}')\n",
    "                        calendario_folga[day][position] = folgado\n",
    "                        try:\n",
    "                            self.remove_worker_availability_by_day(folgado, day)\n",
    "                            # The substitute can't have a day off in the same day as the position it needs to fill\n",
    "                            if self.substitutes.get(position):\n",
    "                                cant_have_a_day_off.add(self.substitutes.get(position))\n",
    "                            folgados.add(folgado)\n",
    "                            if debug:\n",
    "                                print(f'Removed availability for worker {folgado} in day {day}')\n",
    "                        except Exception as e:\n",
    "                            print(f\"Exception {e}\")\n",
    "                            print(folgado, day, folgado.availability)\n",
    "                            print('\\n')\n",
    "                        \n",
    "            print('Calendario Folga: ')\n",
    "            print(calendario_folga)\n",
    "            #Make sure everyone has a day off on a sunday\n",
    "            temp = []\n",
    "            for v in calendario_folga.values():\n",
    "                for v1 in v.values():\n",
    "                    temp.append(v1)\n",
    "            assert(len(set(self.workers) - set(temp)) == 0)\n",
    "            #First allocation\n",
    "            print('\\n----------------------------------------\\n')\n",
    "            print('First allocation')\n",
    "            self.allocate(days)\n",
    "        print('\\n----------------------------------------\\n')\n",
    "        \n",
    "        #Maybe do this after the second day off of the week\n",
    "        if 'day_off_after_doubling' in self.constraints.keys():\n",
    "            worker_names = [x.name for x in self.workers]\n",
    "            #Check days in which employees had two shifts\n",
    "            doubled = []\n",
    "            for day in self.calendar_days:\n",
    "                shifts = self.get_shifts_by_calendar_day(day)\n",
    "                for worker_name in worker_names:\n",
    "                    counter = 0\n",
    "                    for shift in shifts:\n",
    "                        vals = flat_list = [elem for s in shift.filled_slots.values() for elem in s]\n",
    "                        if worker_name in vals:\n",
    "                            counter += 1\n",
    "                    if counter == 2:\n",
    "                        doubled.append([day, worker_name])\n",
    "            print(f\"Doubled: {doubled}\")\n",
    "            #Assign day off the next day\n",
    "            print(\"Assigning day off after doubling...\")\n",
    "            days = []\n",
    "            for day, worker_name in doubled:\n",
    "                next_day = day.next_day\n",
    "                worker = self.get_worker_by_name(worker_name)\n",
    "                self.remove_worker_availability_by_day(worker, next_day)\n",
    "                days.append(next_day)\n",
    "            #Allocate day off after doubling\n",
    "            self.allocate(days)\n",
    "            \n",
    "        if 'days_off_per_week' in self.constraints.keys():\n",
    "            no_days = self.constraints['days_off_per_week']['no_days'] #TODO: Where is this used? Currently, just checking if the last day off occurred more than 6 days ago and allocating one more if so\n",
    "            results = self.compute_interval_between_days_off()\n",
    "            days = []\n",
    "            for worker, intervals, days_off in results:\n",
    "                #If only one day off has been allocated thus far\n",
    "                if len(intervals) == 0: #Only one day off so far, therefore no interval to compute\n",
    "                    #Get next available day and turn it into a day_off if there are enough substitutes\n",
    "                    day = self.set_new_day_off_within_x_days(worker, days_off[0], 6) # x is set as 6 because the constraint specifies the number of days off per week, so we look 6 days ahead.\n",
    "                    if day is not None:\n",
    "                        days.append(day)\n",
    "                #Multiple days off\n",
    "                else:\n",
    "                    #Unpack every interval found for each worker and evaluate if it is necessary to introduce a day_off somewhere\n",
    "                    for idx, val in enumerate(intervals):\n",
    "                        no_days_between_days_off = val.days\n",
    "                        if no_days_between_days_off > 6:\n",
    "                            day = self.set_new_day_off_within_x_days(worker, days_off[idx], 6)\n",
    "                            if day is not None:\n",
    "                                days.append(day)\n",
    "            self.allocate(days)\n",
    "            \n",
    "                \n",
    "    \n",
    "    def __repr__(self):\n",
    "        output_str = 'Schedule for '\n",
    "        output_str += f'{self.start_date} '\n",
    "        output_str += f'to {self.end_date}:\\n'\n",
    "        output_str += f'\\t- Positions: {\" \".join(self.positions)}\\n'\n",
    "        output_str += f'\\t- Workers: {\" \".join([x.name for x in self.workers])}\\n'\n",
    "        return output_str\n",
    "    \n",
    "\n"
   ]
  },
  {
   "cell_type": "markdown",
   "id": "9b314277-6f5a-4db3-93b3-7199c654d0a7",
   "metadata": {},
   "source": [
    "### Create Generic Schedule"
   ]
  },
  {
   "cell_type": "code",
   "execution_count": 5,
   "id": "9ebdaea9-191e-4c31-9faf-74bceebf3db1",
   "metadata": {},
   "outputs": [],
   "source": [
    "no_workers_per_position = {\n",
    "    'CHEF': 1,\n",
    "    'COZ': 2,\n",
    "    'ASG': 2,\n",
    "    'AUX': 1,\n",
    "    'CONF': 1,\n",
    "    'PIZ': 1,\n",
    "    'GARD': 1,\n",
    "    'MASSA': 1\n",
    "}"
   ]
  },
  {
   "cell_type": "code",
   "execution_count": 6,
   "id": "64328405-9068-4887-9033-29ed955b0e84",
   "metadata": {},
   "outputs": [
    {
     "name": "stdout",
     "output_type": "stream",
     "text": [
      "positions: ['CHEF', 'COZ', 'ASG', 'AUX', 'CONF', 'PIZ', 'GARD', 'MASSA']\n"
     ]
    },
    {
     "data": {
      "text/plain": [
       "Schedule for 2023-09-01 to 2023-09-30:\n",
       "\t- Positions: CHEF COZ ASG AUX CONF PIZ GARD MASSA\n",
       "\t- Workers: CHEF1 COZ1 COZ2 ASG1 ASG2 AUX1 CONF1 PIZ1 GARD1 MASSA1 CHEF2 COZ3 COZ4 ASG3 ASG4 AUX2 AUXPIZ1 PIZ2 GARD2 MASSA2"
      ]
     },
     "execution_count": 6,
     "metadata": {},
     "output_type": "execute_result"
    }
   ],
   "source": [
    "#Create generic schedule\n",
    "schedule = Schedule(df=df, \n",
    "                    no_workers_per_position=no_workers_per_position, \n",
    "                    start_date=datetime(2023,9,1).date(), \n",
    "                    end_date=datetime(2023,9,30).date())\n",
    "schedule"
   ]
  },
  {
   "cell_type": "markdown",
   "id": "e4a56c61-cb06-421c-af54-33ce8865ad71",
   "metadata": {},
   "source": [
    "### Assign Shift preference to workers"
   ]
  },
  {
   "cell_type": "code",
   "execution_count": 7,
   "id": "d30d2dff-4529-44f6-af66-df97c305bc25",
   "metadata": {},
   "outputs": [],
   "source": [
    "for worker in schedule.workers:\n",
    "    if worker.name in morning_workers:\n",
    "        worker.shift_preference = 1\n",
    "    elif worker.name in evening_workers:\n",
    "        worker.shift_preference = 2"
   ]
  },
  {
   "cell_type": "markdown",
   "id": "08a45828-d193-4bbe-ac2e-34b52ab60284",
   "metadata": {},
   "source": [
    "### Add some constraints"
   ]
  },
  {
   "cell_type": "code",
   "execution_count": 8,
   "id": "ff30784d-2f9a-4b37-98d6-bf1c24704cb6",
   "metadata": {},
   "outputs": [
    {
     "data": {
      "text/plain": [
       "{'days_off_per_week': {'no_days': 2},\n",
       " 'days_off_per_weekday_per_month': {'no_days': 1, 'week_day': 6},\n",
       " 'consecutive_days_off': {'no_days': 2},\n",
       " 'day_off_after_doubling': True}"
      ]
     },
     "execution_count": 8,
     "metadata": {},
     "output_type": "execute_result"
    }
   ],
   "source": [
    "#Add some constraints\n",
    "#Each person has to have 2 days off per week\n",
    "schedule.add_schedule_constraint(kind='days_off_per_week', no_days=2)\n",
    "#Each person has to have at least 1 sunday off per month\n",
    "schedule.add_schedule_constraint(kind='days_off_per_weekday_per_month', no_days=1, week_day=SUNDAY)\n",
    "#If possible, whoever has the sunday off has monday off as well\n",
    "schedule.add_schedule_constraint(kind='consecutive_days_off', no_days = 2)\n",
    "#The same person should only have two shifts on the same day if their next is a day off\n",
    "schedule.add_schedule_constraint(kind='day_off_after_doubling')\n",
    "schedule.constraints"
   ]
  },
  {
   "cell_type": "code",
   "execution_count": 9,
   "id": "9ef3e17f-afd7-4170-aecd-e7ede56e47d4",
   "metadata": {},
   "outputs": [
    {
     "data": {
      "text/plain": [
       "'35'"
      ]
     },
     "execution_count": 9,
     "metadata": {},
     "output_type": "execute_result"
    }
   ],
   "source": [
    "schedule.shifts[5].week"
   ]
  },
  {
   "cell_type": "markdown",
   "id": "f2b970af-0760-4118-8bcb-714865200a0a",
   "metadata": {},
   "source": [
    "### Modify specific shifts"
   ]
  },
  {
   "cell_type": "markdown",
   "id": "e3b8d30a-55e8-4ac8-86c7-17edc06d44e6",
   "metadata": {},
   "source": [
    "##### Update every SUNDAY EVENING"
   ]
  },
  {
   "cell_type": "code",
   "execution_count": 10,
   "id": "67f50b71-c9d0-422f-82c9-894caa7cb763",
   "metadata": {},
   "outputs": [
    {
     "data": {
      "text/plain": [
       "[Sun03 S02, Sun10 S02, Sun17 S02, Sun24 S02]"
      ]
     },
     "execution_count": 10,
     "metadata": {},
     "output_type": "execute_result"
    }
   ],
   "source": [
    "sundays = schedule.get_shifts_by_day_of_the_week(SUNDAY)\n",
    "sunday_evenings = [x for x in sundays if x.no == 2]\n",
    "sunday_evenings"
   ]
  },
  {
   "cell_type": "code",
   "execution_count": 11,
   "id": "09f0b84f-c1d2-42e1-b527-b58b8e83a58a",
   "metadata": {},
   "outputs": [],
   "source": [
    "for shift in sunday_evenings:\n",
    "    shift.update(slots_to_fill = {'CHEF': 1, 'CUSTOM': 2}, \n",
    "                 candidates = {'CHEF': set(['CHEF1', 'CHEF2']), \n",
    "                               'CUSTOM': set(['PIZ1','PIZ2','AUXPIZ1'])\n",
    "                              })"
   ]
  },
  {
   "cell_type": "markdown",
   "id": "f26a105a-2a65-4870-86a1-f48d45fb7e9e",
   "metadata": {},
   "source": [
    "##### Inspect shifts"
   ]
  },
  {
   "cell_type": "code",
   "execution_count": 12,
   "id": "0c24965b-eaad-40ec-a789-d31d660cc086",
   "metadata": {},
   "outputs": [
    {
     "name": "stdout",
     "output_type": "stream",
     "text": [
      "Fri01 S01\n",
      "{'CHEF': 1, 'COZ': 2, 'ASG': 2, 'AUX': 1, 'CONF': 1, 'PIZ': 1, 'GARD': 1, 'MASSA': 1}\n",
      "\n",
      "\n",
      "{'ASG': {'ASG1', 'ASG3', 'ASG4', 'ASG2'}, 'AUX': {'AUX1', 'AUX2'}, 'CHEF': {'CHEF1', 'CHEF2'}, 'CONF': {'CONF1'}, 'COZ': {'COZ2', 'COZ4', 'COZ1', 'COZ3'}, 'GARD': {'GARD2', 'GARD1'}, 'MASSA': {'MASSA2', 'MASSA1'}, 'PIZ': {'PIZ1', 'AUXPIZ1', 'PIZ2'}}\n"
     ]
    }
   ],
   "source": [
    "shift = schedule.shifts[0]\n",
    "print(shift)\n",
    "print(shift.slots_to_fill)\n",
    "print('\\n')\n",
    "print(shift.candidates)"
   ]
  },
  {
   "cell_type": "code",
   "execution_count": 13,
   "id": "fd1ef939-8f76-460f-b9ca-65cd77defb3f",
   "metadata": {},
   "outputs": [],
   "source": [
    "shift = schedule.shifts[5]"
   ]
  },
  {
   "cell_type": "code",
   "execution_count": 14,
   "id": "38b90631-535b-47bd-bb30-290b68b48725",
   "metadata": {},
   "outputs": [
    {
     "name": "stdout",
     "output_type": "stream",
     "text": [
      "Sun03 S02\n",
      "{'CHEF': 1, 'CUSTOM': 2}\n",
      "\n",
      "\n",
      "{'CHEF': {'CHEF1', 'CHEF2'}, 'CUSTOM': {'PIZ1', 'AUXPIZ1', 'PIZ2'}}\n"
     ]
    }
   ],
   "source": [
    "print(shift)\n",
    "print(shift.slots_to_fill)\n",
    "print('\\n')\n",
    "print(shift.candidates)"
   ]
  },
  {
   "cell_type": "markdown",
   "id": "ec3779b1-ea72-49bd-8f74-eb68712cf0b8",
   "metadata": {},
   "source": [
    "### Solver"
   ]
  },
  {
   "cell_type": "code",
   "execution_count": 15,
   "id": "83d74b75-0887-4744-9a59-24c9d2e165ce",
   "metadata": {
    "tags": []
   },
   "outputs": [
    {
     "name": "stdout",
     "output_type": "stream",
     "text": [
      "Calendario Folga: \n",
      "{Sun03: {'CHEF': CHEF2, 'COZ': COZ2, 'ASG': ASG2, 'AUX': AUX2, 'CONF': CONF1, 'PIZ': PIZ1, 'GARD': GARD1, 'MASSA': MASSA2}, Sun10: {'CHEF': CHEF1, 'COZ': COZ3, 'ASG': ASG4, 'AUX': AUX1, 'PIZ': AUXPIZ1, 'GARD': GARD2, 'MASSA': MASSA1}, Sun17: {'COZ': COZ1, 'ASG': ASG1, 'PIZ': PIZ2}, Sun24: {'COZ': COZ4, 'ASG': ASG3}}\n",
      "\n",
      "----------------------------------------\n",
      "\n",
      "First allocation\n",
      "Day: Sun03\n",
      "Available workers: {'ASG3', 'PIZ2', 'AUXPIZ1', 'MASSA1', 'ASG1', 'GARD2', 'COZ4', 'COZ1', 'CHEF1', 'ASG4', 'AUX1', 'COZ3'}\n",
      "Day: Sun10\n",
      "Available workers: {'ASG3', 'AUX2', 'PIZ2', 'COZ2', 'CONF1', 'ASG2', 'CHEF2', 'ASG1', 'GARD1', 'COZ1', 'COZ4', 'MASSA2', 'PIZ1'}\n",
      "Day: Sun17\n",
      "Available workers: {'ASG3', 'AUX2', 'COZ2', 'CONF1', 'ASG2', 'AUXPIZ1', 'MASSA1', 'CHEF2', 'GARD2', 'GARD1', 'COZ4', 'CHEF1', 'ASG4', 'AUX1', 'MASSA2', 'PIZ1', 'COZ3'}\n",
      "Day: Sun24\n",
      "Available workers: {'AUX2', 'PIZ2', 'COZ2', 'CONF1', 'ASG2', 'AUXPIZ1', 'MASSA1', 'ASG1', 'CHEF2', 'GARD1', 'ASG4', 'COZ1', 'CHEF1', 'GARD2', 'AUX1', 'MASSA2', 'PIZ1', 'COZ3'}\n",
      "\n",
      "----------------------------------------\n",
      "\n",
      "Doubled: [[Sun03, 'CHEF1'], [Sun03, 'AUXPIZ1'], [Sun03, 'PIZ2'], [Sun10, 'PIZ1'], [Sun10, 'CHEF2'], [Sun17, 'AUXPIZ1']]\n",
      "Assigning day off after doubling...\n",
      "Day: Mon04\n",
      "Available workers: {'ASG3', 'AUX2', 'COZ2', 'CONF1', 'ASG2', 'MASSA1', 'ASG1', 'CHEF2', 'GARD1', 'COZ4', 'COZ1', 'ASG4', 'GARD2', 'AUX1', 'MASSA2', 'PIZ1', 'COZ3'}\n",
      "Day: Mon04\n",
      "Available workers: {'ASG3', 'AUX2', 'COZ2', 'CONF1', 'ASG2', 'MASSA1', 'ASG1', 'CHEF2', 'GARD1', 'COZ4', 'COZ1', 'ASG4', 'GARD2', 'AUX1', 'MASSA2', 'PIZ1', 'COZ3'}\n",
      "Day: Mon04\n",
      "Available workers: {'ASG3', 'AUX2', 'COZ2', 'CONF1', 'ASG2', 'MASSA1', 'ASG1', 'CHEF2', 'GARD1', 'COZ4', 'COZ1', 'ASG4', 'GARD2', 'AUX1', 'MASSA2', 'PIZ1', 'COZ3'}\n",
      "Day: Mon11\n",
      "Available workers: {'ASG3', 'AUX2', 'PIZ2', 'COZ2', 'CONF1', 'ASG2', 'AUXPIZ1', 'MASSA1', 'ASG1', 'GARD2', 'GARD1', 'COZ4', 'COZ1', 'CHEF1', 'ASG4', 'AUX1', 'MASSA2', 'COZ3'}\n",
      "Day: Mon11\n",
      "Available workers: {'ASG3', 'AUX2', 'PIZ2', 'COZ2', 'CONF1', 'ASG2', 'AUXPIZ1', 'MASSA1', 'ASG1', 'GARD2', 'GARD1', 'COZ4', 'COZ1', 'CHEF1', 'ASG4', 'AUX1', 'MASSA2', 'COZ3'}\n",
      "Day: Mon18\n",
      "Available workers: {'ASG3', 'AUX2', 'COZ2', 'MASSA1', 'CHEF2', 'ASG4', 'COZ1', 'COZ3', 'CONF1', 'GARD2', 'ASG2', 'ASG1', 'GARD1', 'CHEF1', 'COZ4', 'MASSA2', 'PIZ1', 'PIZ2', 'AUX1'}\n",
      "Success. Worker COZ1 has been given a new day off at Mon18.\n",
      "Success. Worker COZ2 has been given a new day off at Mon04.\n",
      "Success. Worker ASG1 has been given a new day off at Mon18.\n",
      "Success. Worker ASG2 has been given a new day off at Mon04.\n",
      "Success. Worker AUX1 has been given a new day off at Mon11.\n",
      "UNABLE TO ALLOCATE DAY OFF FOR WORKER CONF1 IN THE SPECIFIED RANGE.\n",
      "Success. Worker PIZ1 has been given a new day off at Tue05.\n",
      "Success. Worker GARD1 has been given a new day off at Mon04.\n",
      "Success. Worker MASSA1 has been given a new day off at Mon11.\n",
      "Success. Worker CHEF2 has been given a new day off at Tue05.\n",
      "Success. Worker COZ3 has been given a new day off at Mon11.\n",
      "Success. Worker COZ4 has been given a new day off at Mon25.\n",
      "Success. Worker ASG3 has been given a new day off at Mon25.\n",
      "Success. Worker ASG4 has been given a new day off at Mon11.\n",
      "Success. Worker AUX2 has been given a new day off at Mon04.\n",
      "Success. Worker AUXPIZ1 has been given a new day off at Tue05.\n",
      "Success. Worker PIZ2 has been given a new day off at Wed06.\n",
      "Success. Worker GARD2 has been given a new day off at Mon11.\n",
      "Success. Worker MASSA2 has been given a new day off at Mon04.\n",
      "Day: Mon18\n",
      "Available workers: {'ASG3', 'AUX2', 'PIZ2', 'COZ2', 'CONF1', 'ASG2', 'MASSA1', 'CHEF2', 'GARD2', 'GARD1', 'COZ4', 'CHEF1', 'ASG4', 'AUX1', 'MASSA2', 'PIZ1', 'COZ3'}\n",
      "Day: Mon04\n",
      "Available workers: {'ASG3', 'CONF1', 'MASSA1', 'ASG1', 'CHEF2', 'GARD2', 'COZ4', 'COZ1', 'ASG4', 'AUX1', 'PIZ1', 'COZ3'}\n",
      "Day: Mon18\n",
      "Available workers: {'ASG3', 'AUX2', 'PIZ2', 'COZ2', 'CONF1', 'ASG2', 'MASSA1', 'CHEF2', 'GARD2', 'GARD1', 'COZ4', 'CHEF1', 'ASG4', 'AUX1', 'MASSA2', 'PIZ1', 'COZ3'}\n",
      "Day: Mon04\n",
      "Available workers: {'ASG3', 'CONF1', 'MASSA1', 'ASG1', 'CHEF2', 'GARD2', 'COZ4', 'COZ1', 'ASG4', 'AUX1', 'PIZ1', 'COZ3'}\n",
      "Day: Mon11\n",
      "Available workers: {'ASG3', 'AUX2', 'PIZ2', 'COZ2', 'CONF1', 'ASG2', 'AUXPIZ1', 'ASG1', 'GARD1', 'COZ1', 'CHEF1', 'COZ4', 'MASSA2'}\n",
      "Day: Tue05\n",
      "Available workers: {'ASG3', 'AUX2', 'PIZ2', 'COZ2', 'CONF1', 'ASG2', 'MASSA1', 'ASG1', 'GARD2', 'GARD1', 'COZ4', 'COZ1', 'CHEF1', 'ASG4', 'AUX1', 'MASSA2', 'COZ3'}\n",
      "Day: Mon04\n",
      "Available workers: {'ASG3', 'CONF1', 'MASSA1', 'ASG1', 'CHEF2', 'GARD2', 'COZ4', 'COZ1', 'ASG4', 'AUX1', 'PIZ1', 'COZ3'}\n",
      "Day: Mon11\n",
      "Available workers: {'ASG3', 'AUX2', 'PIZ2', 'COZ2', 'CONF1', 'ASG2', 'AUXPIZ1', 'ASG1', 'GARD1', 'COZ1', 'CHEF1', 'COZ4', 'MASSA2'}\n",
      "Day: Tue05\n",
      "Available workers: {'ASG3', 'AUX2', 'PIZ2', 'COZ2', 'CONF1', 'ASG2', 'MASSA1', 'ASG1', 'GARD2', 'GARD1', 'COZ4', 'COZ1', 'CHEF1', 'ASG4', 'AUX1', 'MASSA2', 'COZ3'}\n",
      "Day: Mon11\n",
      "Available workers: {'ASG3', 'AUX2', 'PIZ2', 'COZ2', 'CONF1', 'ASG2', 'AUXPIZ1', 'ASG1', 'GARD1', 'COZ1', 'CHEF1', 'COZ4', 'MASSA2'}\n",
      "Day: Mon25\n",
      "Available workers: {'AUX2', 'PIZ2', 'COZ2', 'CONF1', 'ASG2', 'AUXPIZ1', 'MASSA1', 'ASG1', 'CHEF2', 'GARD1', 'ASG4', 'COZ1', 'CHEF1', 'GARD2', 'AUX1', 'MASSA2', 'PIZ1', 'COZ3'}\n",
      "Day: Mon25\n",
      "Available workers: {'AUX2', 'PIZ2', 'COZ2', 'CONF1', 'ASG2', 'AUXPIZ1', 'MASSA1', 'ASG1', 'CHEF2', 'GARD1', 'ASG4', 'COZ1', 'CHEF1', 'GARD2', 'AUX1', 'MASSA2', 'PIZ1', 'COZ3'}\n",
      "Day: Mon11\n",
      "Available workers: {'ASG3', 'AUX2', 'PIZ2', 'COZ2', 'CONF1', 'ASG2', 'AUXPIZ1', 'ASG1', 'GARD1', 'COZ1', 'CHEF1', 'COZ4', 'MASSA2'}\n",
      "Day: Mon04\n",
      "Available workers: {'ASG3', 'CONF1', 'MASSA1', 'ASG1', 'CHEF2', 'GARD2', 'COZ4', 'COZ1', 'ASG4', 'AUX1', 'PIZ1', 'COZ3'}\n",
      "Day: Tue05\n",
      "Available workers: {'ASG3', 'AUX2', 'PIZ2', 'COZ2', 'CONF1', 'ASG2', 'MASSA1', 'ASG1', 'GARD2', 'GARD1', 'COZ4', 'COZ1', 'CHEF1', 'ASG4', 'AUX1', 'MASSA2', 'COZ3'}\n",
      "Day: Wed06\n",
      "Available workers: {'ASG3', 'AUX2', 'COZ2', 'MASSA1', 'CHEF2', 'ASG4', 'COZ1', 'COZ3', 'CONF1', 'GARD2', 'ASG2', 'AUXPIZ1', 'ASG1', 'GARD1', 'CHEF1', 'COZ4', 'MASSA2', 'PIZ1', 'AUX1'}\n",
      "Day: Mon11\n",
      "Available workers: {'ASG3', 'AUX2', 'PIZ2', 'COZ2', 'CONF1', 'ASG2', 'AUXPIZ1', 'ASG1', 'GARD1', 'COZ1', 'CHEF1', 'COZ4', 'MASSA2'}\n",
      "Day: Mon04\n",
      "Available workers: {'ASG3', 'CONF1', 'MASSA1', 'ASG1', 'CHEF2', 'GARD2', 'COZ4', 'COZ1', 'ASG4', 'AUX1', 'PIZ1', 'COZ3'}\n"
     ]
    }
   ],
   "source": [
    "#Se AUXPIZ folgar com outro PIZ, não dá pra fechar o turno de domingo a noite\n",
    "schedule.solve(debug=False)"
   ]
  },
  {
   "cell_type": "code",
   "execution_count": 16,
   "id": "6399c3bf-df34-41af-8c33-3a26c67f0af3",
   "metadata": {},
   "outputs": [
    {
     "data": {
      "text/plain": [
       "{'CHEF': 1, 'CUSTOM': 2}"
      ]
     },
     "execution_count": 16,
     "metadata": {},
     "output_type": "execute_result"
    }
   ],
   "source": [
    "schedule.shifts[5].slots_to_fill"
   ]
  },
  {
   "cell_type": "code",
   "execution_count": null,
   "id": "63722cd1-9ee3-4cd5-9b96-5830de684846",
   "metadata": {},
   "outputs": [],
   "source": [
    "schedule.shifts[5]"
   ]
  },
  {
   "cell_type": "code",
   "execution_count": null,
   "id": "69432e84-835b-4748-90ba-4371dc079f44",
   "metadata": {},
   "outputs": [],
   "source": [
    "schedule.shifts[4].filled_slots"
   ]
  },
  {
   "cell_type": "code",
   "execution_count": null,
   "id": "9c9eb7a5-6c70-48d3-910f-f5ed2245a6b1",
   "metadata": {},
   "outputs": [],
   "source": [
    "schedule.shifts[5].filled_slots"
   ]
  },
  {
   "cell_type": "raw",
   "id": "6e14e284-d43f-4f78-9864-f9a00e3e2864",
   "metadata": {},
   "source": [
    "Calendario Folga: \n",
    "{Sun03: {CHEF: CHEF1, COZ: COZ3, ASG: ASG4, AUX: AUX2, CONF: CONF1, PIZ: PIZ2, GARD: GARD2, MASSA: MASSA2}, Sun10: {CHEF: CHEF2, COZ: COZ2, ASG: ASG2, AUX: AUX1, PIZ: PIZ1, GARD: GARD1, MASSA: MASSA1}, Sun17: {COZ: COZ4, ASG: ASG1, PIZ: AUXPIZ1}, Sun24: {COZ: COZ1, ASG: ASG3}}"
   ]
  },
  {
   "cell_type": "code",
   "execution_count": null,
   "id": "dde1ebe9-d3e9-47ae-8d3a-588d958385a6",
   "metadata": {
    "tags": []
   },
   "outputs": [],
   "source": [
    "for shift in sundays:\n",
    "    print('\\n--------------------------\\n')\n",
    "    print(f\"Shift: {shift}\")\n",
    "    print(f'Slots to fill: {shift.slots_to_fill}')\n",
    "    print(f'Filled slots: {shift.filled_slots}')"
   ]
  },
  {
   "cell_type": "code",
   "execution_count": null,
   "id": "38b25db4-7a80-4c19-a844-6ae6494a2f61",
   "metadata": {},
   "outputs": [],
   "source": [
    "mondays = schedule.get_shifts_by_day_of_the_week(MONDAY)"
   ]
  },
  {
   "cell_type": "code",
   "execution_count": null,
   "id": "1737863c-032c-455d-b3e6-e3d29663c0d2",
   "metadata": {
    "tags": []
   },
   "outputs": [],
   "source": [
    "for shift in mondays:\n",
    "    print('\\n--------------------------\\n')\n",
    "    print(f\"Shift: {shift}\")\n",
    "    print(f'Slots to fill: {shift.slots_to_fill}')\n",
    "    print(f'Filled slots: {shift.filled_slots}')"
   ]
  },
  {
   "cell_type": "markdown",
   "id": "f33dcb37-b368-40a0-9f46-efd53c48fef9",
   "metadata": {},
   "source": [
    "---\n",
    "### Compute Intervals between days off"
   ]
  },
  {
   "cell_type": "code",
   "execution_count": null,
   "id": "d765860f-6cdb-4827-b1a3-8e4baa52ac3c",
   "metadata": {},
   "outputs": [],
   "source": [
    "results = []\n",
    "for worker in schedule.workers:\n",
    "    #worker_name = worker.name\n",
    "    days_off = sorted(worker.days_off)\n",
    "    cp_days_off = copy(days_off)\n",
    "    intervals = []\n",
    "    while len(cp_days_off) > 1: \n",
    "        #Compute time between days_off\n",
    "        interval = cp_days_off[-1] - cp_days_off[-2]\n",
    "        intervals.append(interval)\n",
    "        cp_days_off.pop()\n",
    "    results.append([worker, intervals, days_off])\n",
    "    #day_availability = [x.cal_day.date for x in worker.availability]\n",
    "    print(f\"Worker: {worker.name},\\n  Days off: {days_off},\\n Intervals: {intervals}\")\n",
    "    print('-------------------------------------------------------------------------')"
   ]
  },
  {
   "cell_type": "code",
   "execution_count": null,
   "id": "33d78f61-411d-49cc-8c8a-a0db3016e762",
   "metadata": {},
   "outputs": [],
   "source": [
    "def set_new_day_off_within_x_days(worker, start_date, x, debug=True):\n",
    "    next_x_days = []\n",
    "    cal_day = schedule.get_calday_by_date(start_date)\n",
    "    flag_able_to_allocate = False\n",
    "    for i in range(x):\n",
    "        cal_day = cal_day.next_day\n",
    "        next_x_days.append(cal_day)\n",
    "        available_workers = schedule.get_workers_by_calday_availability(cal_day)\n",
    "        position_workers = set([x.name for x in schedule.get_workers_by_position(worker.position)])\n",
    "        intersection = available_workers.intersection(position_workers)\n",
    "        shift = schedule.get_shifts_by_calendar_day(cal_day)[0]\n",
    "        required_slots = shift.slots_to_fill[worker.position]\n",
    "        if worker.name in intersection:\n",
    "            intersection.remove(worker.name)\n",
    "        if len(intersection) >= required_slots: #Actually, not 0, number of workers needed to fill a position\n",
    "            #Remove availability\n",
    "            flag_able_to_allocate = True\n",
    "            #print('Good to go')\n",
    "            break\n",
    "        if debug:\n",
    "            print(f\"Available Workers: {available_workers}\")\n",
    "            print(f\"Position Workers: {position_workers}\")\n",
    "            print(f\"Intersection: {intersection}\")\n",
    "            print(f\"Required slots: {required_slots}\")\n",
    "    if flag_able_to_allocate:\n",
    "        print('Good to go')\n",
    "    else:\n",
    "        print(f'Unable to allocate day off for worker {worker.name} in the specified range.'.upper())"
   ]
  },
  {
   "cell_type": "code",
   "execution_count": null,
   "id": "6429164e-d907-446f-a911-b2f5c0ba4c9e",
   "metadata": {
    "tags": []
   },
   "outputs": [],
   "source": [
    "x = 6 # Number of days ahead to look for a day off\n",
    "for item in results:\n",
    "    worker = item[0]\n",
    "    intervals = item[1]\n",
    "    days_off = item[2]\n",
    "    #If only one day off\n",
    "    if len(intervals) == 0: #Only one day off so far, therefore no interval to compute\n",
    "        #Get next available day and turn it into a day_off if there are enough substitutes\n",
    "        set_new_day_off_within_x_days(worker, days_off[0], x)\n",
    "        print(item)\n",
    "        print('---------------\\n')\n",
    "    #Multiple days off\n",
    "    else:\n",
    "        #Unpack every interval found for each worker and evaluate if it is necessary to introduce a day_off somewhere\n",
    "        for idx, val in enumerate(intervals):\n",
    "            print('\\n\\nELSE')\n",
    "            no_days_between_days_off = val.days\n",
    "            if no_days_between_days_off > x:\n",
    "                set_new_day_off_within_x_days(worker, days_off[idx], x)\n",
    "                print('END ELSE')"
   ]
  },
  {
   "cell_type": "code",
   "execution_count": null,
   "id": "4c6acd5d-bcc2-4a22-80fa-3c11d7751e41",
   "metadata": {},
   "outputs": [],
   "source": [
    "schedule.get_calday_by_date(days_off[0])"
   ]
  },
  {
   "cell_type": "code",
   "execution_count": null,
   "id": "0c4e89b7-1f02-4e50-9a98-4af8f7d1f1c5",
   "metadata": {},
   "outputs": [],
   "source": []
  }
 ],
 "metadata": {
  "kernelspec": {
   "display_name": "Scheduling",
   "language": "python",
   "name": "scheduling"
  },
  "language_info": {
   "codemirror_mode": {
    "name": "ipython",
    "version": 3
   },
   "file_extension": ".py",
   "mimetype": "text/x-python",
   "name": "python",
   "nbconvert_exporter": "python",
   "pygments_lexer": "ipython3",
   "version": "3.11.4"
  }
 },
 "nbformat": 4,
 "nbformat_minor": 5
}
