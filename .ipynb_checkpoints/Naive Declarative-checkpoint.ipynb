{
 "cells": [
  {
   "cell_type": "markdown",
   "id": "781181e7-29f3-4fe2-a1d4-2c757bbdd8ea",
   "metadata": {},
   "source": [
    "### Imports"
   ]
  },
  {
   "cell_type": "code",
   "execution_count": 1,
   "id": "3a823d78-ccac-4631-878e-d122a1b59090",
   "metadata": {},
   "outputs": [],
   "source": [
    "import pandas as pd\n",
    "from pylab import *\n",
    "import matplotlib\n",
    "import matplotlib.pyplot as plt\n",
    "from datetime import datetime"
   ]
  },
  {
   "cell_type": "markdown",
   "id": "e7e47376-6f96-4abe-8333-ca585ff13d42",
   "metadata": {},
   "source": [
    "### Definitions"
   ]
  },
  {
   "cell_type": "code",
   "execution_count": 2,
   "id": "2863f90a-a88e-47ed-b830-6309a47ff63a",
   "metadata": {},
   "outputs": [],
   "source": [
    "date_range = pd.date_range(start='20230901', end='20230930', freq='1d')"
   ]
  },
  {
   "cell_type": "code",
   "execution_count": 20,
   "id": "dcd37625-6562-4b7f-aaff-e95dba7cd6fe",
   "metadata": {},
   "outputs": [],
   "source": [
    "days = [x.strftime('%a%d') for x in date_range]"
   ]
  },
  {
   "cell_type": "code",
   "execution_count": 5,
   "id": "1315a363-44c2-4910-9887-1d6089c73784",
   "metadata": {},
   "outputs": [],
   "source": [
    "shifts = []\n",
    "for day in days:\n",
    "    shifts.append(day + 'morning')\n",
    "    shifts.append(day + 'evening')"
   ]
  },
  {
   "cell_type": "code",
   "execution_count": 6,
   "id": "512d3a69-f0b6-4ac9-a95c-cc4323f3cd13",
   "metadata": {},
   "outputs": [
    {
     "data": {
      "text/plain": [
       "['Fri01morning', 'Fri01evening']"
      ]
     },
     "execution_count": 6,
     "metadata": {},
     "output_type": "execute_result"
    }
   ],
   "source": [
    "#Sample\n",
    "shifts[:2]"
   ]
  },
  {
   "cell_type": "code",
   "execution_count": 7,
   "id": "0f1b9b46-2df8-4f7f-9acc-c3954b78a345",
   "metadata": {},
   "outputs": [],
   "source": [
    "assert(len(shifts) == 2*len(days))"
   ]
  },
  {
   "cell_type": "code",
   "execution_count": 8,
   "id": "39450997-81bb-4213-9223-77236dc69e50",
   "metadata": {},
   "outputs": [],
   "source": [
    "workers_dict = {\n",
    "    'CHEF': [1,2],\n",
    "    'COZ': [1,2,3,4],\n",
    "    'ASG': [1,2,3,4],\n",
    "    'AUX': [1,2],\n",
    "    'CONF': [1,2],\n",
    "    'PIZ': [1,2],\n",
    "    'GARD': [1,2],\n",
    "    'MASSA': [1,2]\n",
    "}\n",
    "\n",
    "worker_names = set()\n",
    "for k,v in workers_dict.items():\n",
    "    for v1 in v:\n",
    "        worker_names.add(k + str(v1))"
   ]
  },
  {
   "cell_type": "code",
   "execution_count": 21,
   "id": "6109fa23-c8b2-43e7-9ec2-073a409ceb7f",
   "metadata": {},
   "outputs": [],
   "source": [
    "morning_workers = ['CHEF1', 'COZ1', 'COZ2', 'ASG1', 'ASG2', 'AUX1', 'CONF1', 'PIZ1', 'GARD1', 'MASSA1']\n",
    "evening_workers = ['CHEF2', 'COZ3', 'COZ4', 'ASG3', 'ASG4', 'AUX2', 'AUXPIZ1', 'PIZ2', 'GARD2', 'MASSA2']"
   ]
  },
  {
   "cell_type": "code",
   "execution_count": 23,
   "id": "16cd56a0-082b-4b4f-aa56-04a2a3c2d57b",
   "metadata": {},
   "outputs": [
    {
     "data": {
      "text/plain": [
       "{'CONF2'}"
      ]
     },
     "execution_count": 23,
     "metadata": {},
     "output_type": "execute_result"
    }
   ],
   "source": [
    "#CONF2 pode trabalhar em qq turno?\n",
    "remaining_workers = worker_names - set(morning_workers) - set(evening_workers)\n",
    "remaining_workers"
   ]
  },
  {
   "cell_type": "code",
   "execution_count": null,
   "id": "9227bfba-eeeb-4180-8225-cd04831d36d6",
   "metadata": {},
   "outputs": [],
   "source": [
    "\n",
    "for shift in shifts:\n",
    "    for worker in worker_names:\n",
    "        "
   ]
  },
  {
   "cell_type": "markdown",
   "id": "c17c6505-b993-4345-8a7f-23a939f803e9",
   "metadata": {},
   "source": [
    "# Hard constraints"
   ]
  },
  {
   "cell_type": "markdown",
   "id": "aafb05f6-6a51-4a59-8aed-d5bbe28b8ca8",
   "metadata": {},
   "source": [
    "### 1) Allocating sunday dayoffs\n",
    "- Each person has to have at least 1 day off on a sunday per month"
   ]
  },
  {
   "cell_type": "code",
   "execution_count": 9,
   "id": "a898d784-9012-4a73-b051-83a803a4c79d",
   "metadata": {},
   "outputs": [],
   "source": [
    "import numpy as np"
   ]
  },
  {
   "cell_type": "code",
   "execution_count": 12,
   "id": "96fcf408-91b1-45a3-98ce-a2405f5e335c",
   "metadata": {},
   "outputs": [],
   "source": [
    "#Each person has to have at least 1 day off on a sunday per month\n",
    "slack_calendar = {}\n",
    "slackers = set()\n",
    "for day in days:\n",
    "    if 'Sun' in day:\n",
    "        for competency in workers_dict.keys():\n",
    "            if day not in slack_calendar.keys():\n",
    "                slack_calendar[day] = {}\n",
    "            slacker_candidates = [x for x in set(worker_names) - slackers if competency in x]\n",
    "            if len(slacker_candidates) > 0:\n",
    "                slacker = np.random.choice(slacker_candidates)\n",
    "                slack_calendar[day][competency] = slacker\n",
    "                slackers.add(slacker)"
   ]
  },
  {
   "cell_type": "code",
   "execution_count": 14,
   "id": "0f989dd7-f331-4d15-87c4-91db5b29edf1",
   "metadata": {},
   "outputs": [
    {
     "data": {
      "text/plain": [
       "{'Sun03': {'CHEF': 'CHEF1',\n",
       "  'COZ': 'COZ1',\n",
       "  'ASG': 'ASG2',\n",
       "  'AUX': 'AUX1',\n",
       "  'CONF': 'CONF1',\n",
       "  'PIZ': 'PIZ2',\n",
       "  'GARD': 'GARD1',\n",
       "  'MASSA': 'MASSA2'},\n",
       " 'Sun10': {'CHEF': 'CHEF2',\n",
       "  'COZ': 'COZ3',\n",
       "  'ASG': 'ASG1',\n",
       "  'AUX': 'AUX2',\n",
       "  'CONF': 'CONF2',\n",
       "  'PIZ': 'PIZ1',\n",
       "  'GARD': 'GARD2',\n",
       "  'MASSA': 'MASSA1'},\n",
       " 'Sun17': {'COZ': 'COZ4', 'ASG': 'ASG3'},\n",
       " 'Sun24': {'COZ': 'COZ2', 'ASG': 'ASG4'}}"
      ]
     },
     "execution_count": 14,
     "metadata": {},
     "output_type": "execute_result"
    }
   ],
   "source": [
    "slack_calendar"
   ]
  },
  {
   "cell_type": "code",
   "execution_count": 19,
   "id": "b96e2f32-71ec-4c54-9bd3-02e3b1d8553c",
   "metadata": {},
   "outputs": [],
   "source": [
    "#Make sure conditions are met\n",
    "temp = []\n",
    "for v in slack_calendar.values():\n",
    "    for v1 in v.values():\n",
    "        temp.append(v1)\n",
    "assert(len(worker_names - set(temp)) == 0)"
   ]
  },
  {
   "cell_type": "markdown",
   "id": "b0a3ecb9-e864-4fff-86a4-b0a53f6af839",
   "metadata": {},
   "source": [
    "### 2) Day off depois de dobrar"
   ]
  },
  {
   "cell_type": "code",
   "execution_count": null,
   "id": "007f2242-917f-4a8b-83ab-3978a5038f24",
   "metadata": {},
   "outputs": [],
   "source": []
  }
 ],
 "metadata": {
  "kernelspec": {
   "display_name": "Scheduling",
   "language": "python",
   "name": "scheduling"
  },
  "language_info": {
   "codemirror_mode": {
    "name": "ipython",
    "version": 3
   },
   "file_extension": ".py",
   "mimetype": "text/x-python",
   "name": "python",
   "nbconvert_exporter": "python",
   "pygments_lexer": "ipython3",
   "version": "3.11.4"
  }
 },
 "nbformat": 4,
 "nbformat_minor": 5
}
