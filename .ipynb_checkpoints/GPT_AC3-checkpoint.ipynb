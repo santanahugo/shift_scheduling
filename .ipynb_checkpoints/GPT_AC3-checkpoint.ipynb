{
 "cells": [
  {
   "cell_type": "code",
   "execution_count": 1,
   "id": "0d8f55f4-bc52-47d3-acb9-28313d8934e8",
   "metadata": {},
   "outputs": [],
   "source": [
    "from datetime import date, timedelta\n",
    "from collections import deque"
   ]
  },
  {
   "cell_type": "markdown",
   "id": "727d2a1b-146d-4056-9cc4-4482c5420f43",
   "metadata": {},
   "source": [
    "### Is_consistent"
   ]
  },
  {
   "cell_type": "code",
   "execution_count": 2,
   "id": "126109c4-76f9-44fe-b166-56e304536723",
   "metadata": {},
   "outputs": [],
   "source": [
    "# Function to check if a given assignment is consistent\n",
    "def is_consistent(assignment, var, value):\n",
    "    cur_date, cur_shift, cur_role = var.split(\"_\")\n",
    "    cur_date = date.fromisoformat(cur_date)\n",
    "    \n",
    "    # Hard constraints\n",
    "    for assigned_var, assigned_value in assignment.items():\n",
    "        assigned_date, assigned_shift, assigned_role = assigned_var.split(\"_\")\n",
    "        assigned_date = date.fromisoformat(assigned_date)\n",
    "\n",
    "        # No person should be assigned two different roles in the same shift\n",
    "        if cur_date == assigned_date and cur_shift == assigned_shift and value == assigned_value:\n",
    "            return False\n",
    "\n",
    "        # Morning-only and evening-only staff constraints\n",
    "        if value in morning_only and cur_shift == 'Evening':\n",
    "            return False\n",
    "        if value in evening_only and cur_shift == 'Morning':\n",
    "            return False\n",
    "        \n",
    "        # Separate work schedule for ASG\n",
    "        if cur_role == \"ASG\" and assigned_role == \"ASG\":\n",
    "            if cur_date == assigned_date and cur_shift == assigned_shift:\n",
    "                return False\n",
    "    \n",
    "    \n",
    "    return True"
   ]
  },
  {
   "cell_type": "markdown",
   "id": "f4b4797e-7d05-48ce-8388-4758ab10d3b6",
   "metadata": {},
   "source": [
    "### AC3"
   ]
  },
  {
   "cell_type": "code",
   "execution_count": 3,
   "id": "38e0eaa8-f5d2-40b1-a152-5ed1f4fa79c9",
   "metadata": {},
   "outputs": [],
   "source": [
    "# AC-3 algorithm to reduce domains\n",
    "def ac3(domains):\n",
    "    # Initialize queue with all arcs\n",
    "    queue = deque()\n",
    "    for x in domains:\n",
    "        for y in domains:\n",
    "            if x != y:\n",
    "                queue.append((x, y))\n",
    "\n",
    "    while queue:\n",
    "        x, y = queue.popleft()\n",
    "        if remove_inconsistent_values(domains, x, y):\n",
    "            for z in domains:\n",
    "                if z != x and z != y:\n",
    "                    queue.append((z, x))\n",
    "\n",
    "    return True"
   ]
  },
  {
   "cell_type": "markdown",
   "id": "1cf6a7cb-efe6-480a-ade3-a524633b5d2a",
   "metadata": {},
   "source": [
    "### Remove inconsistent values"
   ]
  },
  {
   "cell_type": "code",
   "execution_count": 4,
   "id": "f9b11def-593e-4d36-a8a1-e82b86579261",
   "metadata": {},
   "outputs": [],
   "source": [
    "# Helper function for AC-3\n",
    "def remove_inconsistent_values(domains, x, y):\n",
    "    removed = False\n",
    "    for x_val in domains[x][:]:\n",
    "        assignment = {x: x_val}\n",
    "        if all(not is_consistent(assignment, y, y_val) for y_val in domains[y]):\n",
    "            domains[x].remove(x_val)\n",
    "            removed = True\n",
    "    return removed"
   ]
  },
  {
   "cell_type": "markdown",
   "id": "f33666ff-d8b0-43f1-bb3f-480b60a82fa0",
   "metadata": {},
   "source": [
    "### # Additional function to check soft constraints"
   ]
  },
  {
   "cell_type": "code",
   "execution_count": 5,
   "id": "ce8f991b-1b53-46d9-ba39-79212565901d",
   "metadata": {},
   "outputs": [],
   "source": [
    "def check_soft_constraints(assignment, history, var, value):\n",
    "    cur_date, cur_shift, cur_role = var.split(\"_\")\n",
    "    cur_date = date.fromisoformat(cur_date)\n",
    "    \n",
    "    # Soft Constraint: If possible, whoever has Sunday off has Monday off as well\n",
    "    if cur_date.weekday() == 0:  # Monday\n",
    "        prev_sunday = cur_date - timedelta(days=1)\n",
    "        prev_var = f\"{prev_sunday}_{cur_shift}_{cur_role}\"\n",
    "        if prev_var not in assignment or assignment[prev_var] != value:\n",
    "            return False\n",
    "    return True"
   ]
  },
  {
   "cell_type": "markdown",
   "id": "b5e548b7-b1df-4057-b48a-98f6adf84dac",
   "metadata": {},
   "source": [
    "### BackTracking"
   ]
  },
  {
   "cell_type": "code",
   "execution_count": 6,
   "id": "c949ffc2-166a-40ef-9292-75164b028a89",
   "metadata": {},
   "outputs": [],
   "source": [
    "def backtrack(assignment, domains, history):\n",
    "    if len(assignment) == len(domains):\n",
    "        return assignment\n",
    "    \n",
    "    # Select an unassigned variable\n",
    "    for var in domains.keys():\n",
    "        if var not in assignment:\n",
    "            break\n",
    "    \n",
    "    for value in domains[var]:\n",
    "        if is_consistent(assignment, var, value) and check_soft_constraints(assignment, history, var, value):\n",
    "            assignment[var] = value\n",
    "            history[value].append(var)\n",
    "            \n",
    "            # If hard constraints are met, continue\n",
    "            result = backtrack(assignment, domains, history)\n",
    "            if result:\n",
    "                return result\n",
    "            \n",
    "            # Revert changes\n",
    "            del assignment[var]\n",
    "            history[value].remove(var)\n",
    "    \n",
    "    return None"
   ]
  },
  {
   "cell_type": "code",
   "execution_count": 7,
   "id": "cf60cae8-7402-4ea6-8d4a-173f54b9707e",
   "metadata": {},
   "outputs": [],
   "source": [
    "def backtrack_without_soft(assignment, domains, history):\n",
    "    if len(assignment) == len(domains):\n",
    "        return assignment\n",
    "    \n",
    "    # Select an unassigned variable\n",
    "    for var in domains.keys():\n",
    "        if var not in assignment:\n",
    "            break\n",
    "    \n",
    "    for value in domains[var]:\n",
    "        if is_consistent(assignment, var, value):\n",
    "            assignment[var] = value\n",
    "            history[value].append(var)\n",
    "            \n",
    "            # If hard constraints are met, continue\n",
    "            result = backtrack(assignment, domains, history)\n",
    "            if result:\n",
    "                return result\n",
    "            \n",
    "            # Revert changes\n",
    "            del assignment[var]\n",
    "            history[value].remove(var)\n",
    "    \n",
    "    return None"
   ]
  },
  {
   "cell_type": "markdown",
   "id": "04994aca-7ced-45b2-a8e1-c98a537f7baf",
   "metadata": {},
   "source": [
    "###  Define the roles, shifts, and dates"
   ]
  },
  {
   "cell_type": "code",
   "execution_count": 8,
   "id": "50053c78-59b8-4c11-9294-1bf836ac834b",
   "metadata": {},
   "outputs": [],
   "source": [
    "# Define the roles, shifts, and dates\n",
    "roles = ['CHEF', 'COZ', 'ASG', 'AUX', 'CONF', 'PIZ', 'GARD', 'MASSA']\n",
    "shifts = ['Morning', 'Evening']\n",
    "dates = [date(2023, 9, day) for day in range(1, 31)]"
   ]
  },
  {
   "cell_type": "markdown",
   "id": "9e9c0ccf-061c-4262-9843-5e8e2e9377e7",
   "metadata": {},
   "source": [
    "### Define constraints for employees who only work morning or evening shifts"
   ]
  },
  {
   "cell_type": "code",
   "execution_count": 9,
   "id": "0491b790-aa5b-42a6-8b29-eb9e1712ecb2",
   "metadata": {},
   "outputs": [],
   "source": [
    "morning_only = ['CHEF1', 'COZ1', 'COZ2', 'ASG1', 'ASG2', 'AUX1', 'CONF1', 'PIZ1', 'GARD1', 'MASSA1']\n",
    "evening_only = ['CHEF2', 'COZ3', 'COZ4', 'ASG3', 'ASG4', 'AUX2', 'AUXPIZ1', 'PIZ2', 'GARD2', 'MASSA2']"
   ]
  },
  {
   "cell_type": "markdown",
   "id": "58ccb360-f072-4a25-aaec-eaa7054def39",
   "metadata": {},
   "source": [
    "### Initialize domains for each variable"
   ]
  },
  {
   "cell_type": "code",
   "execution_count": 10,
   "id": "7eff2a24-d27f-4c65-99ec-2032884d13fd",
   "metadata": {},
   "outputs": [],
   "source": [
    "# Initialize domains for each variable\n",
    "domains = {}\n",
    "for current_date in dates:\n",
    "    for shift in shifts:\n",
    "        for role in roles:\n",
    "            var = f\"{current_date}_{shift}_{role}\"\n",
    "            \n",
    "            # Special rule for Sunday Evening Shifts\n",
    "            if current_date.weekday() == 6 and shift == 'Evening':\n",
    "                if role == 'CHEF':\n",
    "                    domains[var] = ['CHEF1', 'CHEF2']\n",
    "                elif role == 'PIZ':\n",
    "                    domains[var] = ['PIZ1', 'PIZ2', 'AUXPIZ1']\n",
    "                else:\n",
    "                    domains[var] = []\n",
    "                continue\n",
    "            \n",
    "            # Role-specific initialization based on the shift\n",
    "            if shift == 'Morning':\n",
    "                if role == 'CHEF':\n",
    "                    domains[var] = ['CHEF1']\n",
    "                elif role == 'COZ':\n",
    "                    domains[var] = ['COZ1', 'COZ2']\n",
    "                elif role == 'ASG':\n",
    "                    domains[var] = ['ASG1', 'ASG2']\n",
    "                elif role == 'AUX':\n",
    "                    domains[var] = ['AUX1', 'CONF1', 'AUXPIZ1']\n",
    "                elif role == 'CONF':\n",
    "                    domains[var] = ['CONF1', 'AUXPIZ1']\n",
    "                elif role == 'PIZ':\n",
    "                    domains[var] = ['PIZ1', 'AUXPIZ1']\n",
    "                elif role == 'GARD':\n",
    "                    domains[var] = ['GARD1']\n",
    "                elif role == 'MASSA':\n",
    "                    domains[var] = ['MASSA1']\n",
    "            else:  # Evening\n",
    "                if role == 'CHEF':\n",
    "                    domains[var] = ['CHEF2']\n",
    "                elif role == 'COZ':\n",
    "                    domains[var] = ['COZ3', 'COZ4']\n",
    "                elif role == 'ASG':\n",
    "                    domains[var] = ['ASG3', 'ASG4']\n",
    "                elif role == 'AUX':\n",
    "                    domains[var] = ['AUX2', 'CONF1', 'AUXPIZ1']\n",
    "                elif role == 'CONF':\n",
    "                    domains[var] = ['CONF1', 'AUXPIZ1']\n",
    "                elif role == 'PIZ':\n",
    "                    domains[var] = ['PIZ2', 'AUXPIZ1']\n",
    "                elif role == 'GARD':\n",
    "                    domains[var] = ['GARD2']\n",
    "                elif role == 'MASSA':\n",
    "                    domains[var] = ['MASSA2']"
   ]
  },
  {
   "cell_type": "code",
   "execution_count": 11,
   "id": "6046ba8b-dc98-4c68-8857-ca47e0729be7",
   "metadata": {},
   "outputs": [],
   "source": [
    "# Initialize history for each employee\n",
    "history = {}\n",
    "all_employees = morning_only + evening_only\n",
    "for emp in all_employees:\n",
    "    history[emp] = []"
   ]
  },
  {
   "cell_type": "markdown",
   "id": "b01b9898-affd-4f58-b092-04603bf583cc",
   "metadata": {},
   "source": [
    "### Main program"
   ]
  },
  {
   "cell_type": "code",
   "execution_count": 12,
   "id": "5d0c45f9-3365-41e4-8a48-0d1398d3ebca",
   "metadata": {},
   "outputs": [
    {
     "name": "stdout",
     "output_type": "stream",
     "text": [
      "No solution with soft constraints. Attempting without...\n",
      "No solution exists!\n"
     ]
    }
   ],
   "source": [
    "def main():\n",
    "    # Apply AC-3 to reduce domains\n",
    "    if not ac3(domains):\n",
    "        print(\"No solution exists after AC-3!\")\n",
    "        exit(1)\n",
    "\n",
    "    # Initialize history for each employee\n",
    "    history = {}\n",
    "    all_employees = morning_only + evening_only\n",
    "    for emp in all_employees:\n",
    "        history[emp] = []\n",
    "    \n",
    "    # First attempt: Try to find a solution satisfying all constraints\n",
    "    assignment = {}\n",
    "    result = backtrack(assignment, domains, history)\n",
    "    if result:\n",
    "        print(\"Solution found with soft constraints:\")\n",
    "        for key, value in sorted(result.items()):\n",
    "            print(f\"{key}: {value}\")\n",
    "        return\n",
    "\n",
    "    print(\"No solution with soft constraints. Attempting without...\")\n",
    "    \n",
    "    assignment = {}\n",
    "    result = backtrack_without_soft(assignment, domains, history)\n",
    "    if result:\n",
    "        print(\"Solution found without soft constraints:\")\n",
    "        for key, value in sorted(result.items()):\n",
    "            print(f\"{key}: {value}\")\n",
    "    else:\n",
    "        print(\"No solution exists!\")\n",
    "\n",
    "if __name__ == \"__main__\":\n",
    "    main()"
   ]
  },
  {
   "cell_type": "code",
   "execution_count": null,
   "id": "67362d52-9419-406e-a2b5-713614e2a686",
   "metadata": {},
   "outputs": [],
   "source": []
  }
 ],
 "metadata": {
  "kernelspec": {
   "display_name": "Python 3",
   "language": "python",
   "name": "python3"
  },
  "language_info": {
   "codemirror_mode": {
    "name": "ipython",
    "version": 3
   },
   "file_extension": ".py",
   "mimetype": "text/x-python",
   "name": "python",
   "nbconvert_exporter": "python",
   "pygments_lexer": "ipython3",
   "version": "3.8.8"
  }
 },
 "nbformat": 4,
 "nbformat_minor": 5
}
